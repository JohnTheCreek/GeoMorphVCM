{
 "cells": [
  {
   "cell_type": "markdown",
   "id": "7cf7246e",
   "metadata": {},
   "source": [
    "# Data Cleaning\n",
    "\n",
    "We will take the UniMorph dataset for Georgian and:\n",
    "\n",
    "- Extract all verb forms, excluding any other POS\n",
    "- check for any latin characters and replace them with the corrext Georgian ones\n",
    "- Split features (tags and lemmas) from target values (conjugated verb forms)"
   ]
  },
  {
   "cell_type": "code",
   "execution_count": null,
   "id": "2ddb8ac9",
   "metadata": {},
   "outputs": [],
   "source": [
    "# import pandas \n",
    "import pandas as pd\n",
    "import re\n",
    "\n",
    "# Read in UniMorph\n",
    "um = pd.read_csv(r\"C:\\Users\\Home\\Desktop\\Bachelor Project\\data\\kat_UniMorph.txt\", sep='\\t', header=None, names=['lemma', 'form', 'tag'])"
   ]
  },
  {
   "cell_type": "code",
   "execution_count": 92,
   "id": "80e4c53f",
   "metadata": {},
   "outputs": [
    {
     "name": "stdout",
     "output_type": "stream",
     "text": [
      "     lemma       form                tag\n",
      "0  შეუძლია   შემიძლია  V;ARGNO1S;IND;PRS\n",
      "1  შეუძლია   შეგიძლია  V;ARGNO2S;IND;PRS\n",
      "2  შეუძლია    შეუძლია  V;ARGNO3S;IND;PRS\n",
      "3  შეუძლია  შეგვიძლია  V;ARGNO1P;IND;PRS\n",
      "4  შეუძლია  შეგიძლიათ  V;ARGNO2P;IND;PRS\n"
     ]
    }
   ],
   "source": [
    "# check the first few rows\n",
    "print(um.head())"
   ]
  },
  {
   "cell_type": "code",
   "execution_count": 93,
   "id": "dae9093b",
   "metadata": {},
   "outputs": [
    {
     "name": "stdout",
     "output_type": "stream",
     "text": [
      "num of duplicates:0\n",
      "num of unique words:75998\n",
      "num of unique lemmas:3852\n",
      "num of unique tags:443\n",
      "num of unique word-lemma pairs:76204\n",
      "num of unique word-tag pairs:91951\n"
     ]
    }
   ],
   "source": [
    "# check for duplicates\n",
    "print(\"num of duplicates:\" + str(um.duplicated().sum()))\n",
    "print(\"num of unique words:\" + str(um.form.nunique()))\n",
    "print(\"num of unique lemmas:\" + str(um.lemma.nunique()))\n",
    "print(\"num of unique tags:\" + str(um.tag.nunique()))\n",
    "print(\"num of unique word-lemma pairs:\" + str(um[['form', 'lemma']].drop_duplicates().shape[0]))\n",
    "print(\"num of unique word-tag pairs:\" + str(um[['form', 'tag']].drop_duplicates().shape[0]))"
   ]
  },
  {
   "cell_type": "code",
   "execution_count": 94,
   "id": "5a569d1e",
   "metadata": {},
   "outputs": [],
   "source": [
    "# Filter for verbs\n",
    "um = um[um.tag.str.contains(r'^V;', na=False)]"
   ]
  },
  {
   "cell_type": "code",
   "execution_count": 95,
   "id": "f085ee9e",
   "metadata": {},
   "outputs": [
    {
     "name": "stdout",
     "output_type": "stream",
     "text": [
      "num of tags that do not start with V: 0\n"
     ]
    }
   ],
   "source": [
    "# check if all tags start with V;\n",
    "print(\"num of tags that do not start with V: \" + str(um.tag[~um.tag.str.contains(r'^V;')].shape[0]))"
   ]
  },
  {
   "cell_type": "code",
   "execution_count": 96,
   "id": "baa83da3",
   "metadata": {},
   "outputs": [],
   "source": [
    "# function to check for any latin characters\n",
    "def contains_latin(text):\n",
    "    if re.search(r'[a-zA-Z]', text):\n",
    "        return True\n",
    "    else:\n",
    "        return False"
   ]
  },
  {
   "cell_type": "code",
   "execution_count": 97,
   "id": "3f59a351",
   "metadata": {},
   "outputs": [
    {
     "name": "stdout",
     "output_type": "stream",
     "text": [
      "No latin characters in the lemma column\n",
      "There are latin characters in the form column\n"
     ]
    }
   ],
   "source": [
    "# check lemma and form for latin characters\n",
    "if um['lemma'].apply(contains_latin).any():\n",
    "    print(\"There are latin characters in the lemma column\")\n",
    "else:\n",
    "    print(\"No latin characters in the lemma column\")\n",
    "if um['form'].apply(contains_latin).any():\n",
    "    print(\"There are latin characters in the form column\")\n",
    "else:\n",
    "    print(\"No latin characters in the form column\")"
   ]
  },
  {
   "cell_type": "code",
   "execution_count": 98,
   "id": "658d951c",
   "metadata": {},
   "outputs": [
    {
     "name": "stdout",
     "output_type": "stream",
     "text": [
      "Latin characters in the form column: ['a']\n"
     ]
    }
   ],
   "source": [
    "# check which latin characters are present in the form column\n",
    "def find_latin(text):\n",
    "    return re.findall(r'[a-zA-Z]', text)\n",
    "all_latin = um['form'].apply(find_latin).explode().dropna().unique()\n",
    "print(f\"Latin characters in the form column: {all_latin}\")"
   ]
  },
  {
   "cell_type": "code",
   "execution_count": 99,
   "id": "43b69f61",
   "metadata": {},
   "outputs": [],
   "source": [
    "# Identify and correct rows where Latin 'a' appears in the 'form' column and replace it with Georgian 'ა'\n",
    "um['form'] = um['form'].apply(\n",
    "    lambda x: x.replace('a', 'ა') if re.search(r'[a-zA-Z]', x) else x\n",
    ")"
   ]
  },
  {
   "cell_type": "code",
   "execution_count": 100,
   "id": "68ba8e99",
   "metadata": {},
   "outputs": [
    {
     "name": "stdout",
     "output_type": "stream",
     "text": [
      "No Latin 'a's in the target column.\n"
     ]
    }
   ],
   "source": [
    "# check for any remaining Latin 'a's\n",
    "if um['form'].str.contains('a').any():\n",
    "    print(\"There are still Latin 'a's in the target column.\")\n",
    "else:\n",
    "    print(\"No Latin 'a's in the target column.\")"
   ]
  },
  {
   "cell_type": "code",
   "execution_count": 101,
   "id": "b85a31a5",
   "metadata": {},
   "outputs": [],
   "source": [
    "# split into features and target \n",
    "um_features = um.drop(columns=['form'])\n",
    "um_target = um['form']"
   ]
  },
  {
   "cell_type": "code",
   "execution_count": 102,
   "id": "4b77d9df",
   "metadata": {},
   "outputs": [],
   "source": [
    "# Identify and correct rows where Latin 'a' appears in the 'form' column\n",
    "um_target = um_target.apply(\n",
    "    lambda x: x.replace('a', 'ა') if re.search(r'[a-zA-Z]', x) else x\n",
    ")"
   ]
  },
  {
   "cell_type": "code",
   "execution_count": 103,
   "id": "36936f80",
   "metadata": {},
   "outputs": [
    {
     "name": "stdout",
     "output_type": "stream",
     "text": [
      "No Latin 'a's found in the form column.\n"
     ]
    }
   ],
   "source": [
    "# check for any remaining Latin 'a's\n",
    "if um_target.str.contains('a').any():\n",
    "    print(\"There are still Latin 'a's in the form column.\")\n",
    "else:\n",
    "    print(\"No Latin 'a's found in the form column.\")"
   ]
  },
  {
   "cell_type": "code",
   "execution_count": 104,
   "id": "22d23587",
   "metadata": {},
   "outputs": [],
   "source": [
    "# save the cleaned data\n",
    "um_features.to_csv(r\"C:\\Users\\Home\\Desktop\\Bachelor Project\\data\\um_features.csv\", index=False)\n",
    "um_target.to_csv(r\"C:\\Users\\Home\\Desktop\\Bachelor Project\\data\\um_target.csv\", index=False)"
   ]
  }
 ],
 "metadata": {
  "kernelspec": {
   "display_name": "torchenv",
   "language": "python",
   "name": "python3"
  },
  "language_info": {
   "codemirror_mode": {
    "name": "ipython",
    "version": 3
   },
   "file_extension": ".py",
   "mimetype": "text/x-python",
   "name": "python",
   "nbconvert_exporter": "python",
   "pygments_lexer": "ipython3",
   "version": "3.12.7"
  }
 },
 "nbformat": 4,
 "nbformat_minor": 5
}

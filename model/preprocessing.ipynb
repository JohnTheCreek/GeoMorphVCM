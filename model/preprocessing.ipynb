{
 "cells": [
  {
   "cell_type": "markdown",
   "id": "2e486ed6",
   "metadata": {},
   "source": [
    "# Data preprocessing for Seq2Seq modelling\n",
    "\n",
    "In this notebook the cleaned data is going to be preprocessed and prepared for being used in a seq2seq model. For this purpose we are going to:\n",
    "\n",
    "- read in the cleaned data \n",
    "- check for any latin characters\n",
    "- remove and replace latin characters with their corresponing Georgian ones\n",
    "- create a list of Georgian characters \n",
    "- create a iist of special tokens (padding, bos, eos)\n",
    "- create a list of tags\n",
    "- create a dictionary of chars, special tokens and tags for tokenization\n",
    "- tokenize the features and target values seperately\n",
    "- save the tokenized data for processing"
   ]
  },
  {
   "cell_type": "markdown",
   "id": "aab5fd2b",
   "metadata": {},
   "source": [
    "## Reading in Data and creating a vocabulary for the chars, tags and special tokens"
   ]
  },
  {
   "cell_type": "code",
   "execution_count": 1,
   "id": "cf1b3023",
   "metadata": {},
   "outputs": [],
   "source": [
    "# import necessary libraries\n",
    "import pandas as pd"
   ]
  },
  {
   "cell_type": "code",
   "execution_count": 2,
   "id": "8bcffa56",
   "metadata": {},
   "outputs": [
    {
     "data": {
      "application/vnd.microsoft.datawrangler.viewer.v0+json": {
       "columns": [
        {
         "name": "index",
         "rawType": "int64",
         "type": "integer"
        },
        {
         "name": "lemma",
         "rawType": "object",
         "type": "string"
        },
        {
         "name": "tag",
         "rawType": "object",
         "type": "string"
        },
        {
         "name": "lemma_length",
         "rawType": "int64",
         "type": "integer"
        },
        {
         "name": "form_length",
         "rawType": "int64",
         "type": "integer"
        }
       ],
       "ref": "3372bc23-3622-4605-a543-9baee01d2407",
       "rows": [
        [
         "0",
         "შეუძლია",
         "V;ARGNO1S;IND;PRS",
         "7",
         "8"
        ],
        [
         "1",
         "შეუძლია",
         "V;ARGNO2S;IND;PRS",
         "7",
         "8"
        ],
        [
         "2",
         "შეუძლია",
         "V;ARGNO3S;IND;PRS",
         "7",
         "7"
        ],
        [
         "3",
         "შეუძლია",
         "V;ARGNO1P;IND;PRS",
         "7",
         "9"
        ],
        [
         "4",
         "შეუძლია",
         "V;ARGNO2P;IND;PRS",
         "7",
         "9"
        ]
       ],
       "shape": {
        "columns": 4,
        "rows": 5
       }
      },
      "text/html": [
       "<div>\n",
       "<style scoped>\n",
       "    .dataframe tbody tr th:only-of-type {\n",
       "        vertical-align: middle;\n",
       "    }\n",
       "\n",
       "    .dataframe tbody tr th {\n",
       "        vertical-align: top;\n",
       "    }\n",
       "\n",
       "    .dataframe thead th {\n",
       "        text-align: right;\n",
       "    }\n",
       "</style>\n",
       "<table border=\"1\" class=\"dataframe\">\n",
       "  <thead>\n",
       "    <tr style=\"text-align: right;\">\n",
       "      <th></th>\n",
       "      <th>lemma</th>\n",
       "      <th>tag</th>\n",
       "      <th>lemma_length</th>\n",
       "      <th>form_length</th>\n",
       "    </tr>\n",
       "  </thead>\n",
       "  <tbody>\n",
       "    <tr>\n",
       "      <th>0</th>\n",
       "      <td>შეუძლია</td>\n",
       "      <td>V;ARGNO1S;IND;PRS</td>\n",
       "      <td>7</td>\n",
       "      <td>8</td>\n",
       "    </tr>\n",
       "    <tr>\n",
       "      <th>1</th>\n",
       "      <td>შეუძლია</td>\n",
       "      <td>V;ARGNO2S;IND;PRS</td>\n",
       "      <td>7</td>\n",
       "      <td>8</td>\n",
       "    </tr>\n",
       "    <tr>\n",
       "      <th>2</th>\n",
       "      <td>შეუძლია</td>\n",
       "      <td>V;ARGNO3S;IND;PRS</td>\n",
       "      <td>7</td>\n",
       "      <td>7</td>\n",
       "    </tr>\n",
       "    <tr>\n",
       "      <th>3</th>\n",
       "      <td>შეუძლია</td>\n",
       "      <td>V;ARGNO1P;IND;PRS</td>\n",
       "      <td>7</td>\n",
       "      <td>9</td>\n",
       "    </tr>\n",
       "    <tr>\n",
       "      <th>4</th>\n",
       "      <td>შეუძლია</td>\n",
       "      <td>V;ARGNO2P;IND;PRS</td>\n",
       "      <td>7</td>\n",
       "      <td>9</td>\n",
       "    </tr>\n",
       "  </tbody>\n",
       "</table>\n",
       "</div>"
      ],
      "text/plain": [
       "     lemma                tag  lemma_length  form_length\n",
       "0  შეუძლია  V;ARGNO1S;IND;PRS             7            8\n",
       "1  შეუძლია  V;ARGNO2S;IND;PRS             7            8\n",
       "2  შეუძლია  V;ARGNO3S;IND;PRS             7            7\n",
       "3  შეუძლია  V;ARGNO1P;IND;PRS             7            9\n",
       "4  შეუძლია  V;ARGNO2P;IND;PRS             7            9"
      ]
     },
     "execution_count": 2,
     "metadata": {},
     "output_type": "execute_result"
    }
   ],
   "source": [
    "# read in the feature data\n",
    "um_features = pd.read_csv(r\"..\\data\\um_features.csv\")\n",
    "um_features.head()\n"
   ]
  },
  {
   "cell_type": "code",
   "execution_count": 3,
   "id": "767c8095",
   "metadata": {},
   "outputs": [
    {
     "data": {
      "text/plain": [
       "(21054, 4)"
      ]
     },
     "execution_count": 3,
     "metadata": {},
     "output_type": "execute_result"
    }
   ],
   "source": [
    "# check shape of feature data\n",
    "um_features.shape"
   ]
  },
  {
   "cell_type": "code",
   "execution_count": 4,
   "id": "abc05857",
   "metadata": {},
   "outputs": [
    {
     "data": {
      "application/vnd.microsoft.datawrangler.viewer.v0+json": {
       "columns": [
        {
         "name": "index",
         "rawType": "int64",
         "type": "integer"
        },
        {
         "name": "form",
         "rawType": "object",
         "type": "string"
        }
       ],
       "ref": "d147274a-558d-4fc9-8165-ed7cd10b8278",
       "rows": [
        [
         "0",
         "შემიძლია"
        ],
        [
         "1",
         "შეგიძლია"
        ],
        [
         "2",
         "შეუძლია"
        ],
        [
         "3",
         "შეგვიძლია"
        ],
        [
         "4",
         "შეგიძლიათ"
        ]
       ],
       "shape": {
        "columns": 1,
        "rows": 5
       }
      },
      "text/html": [
       "<div>\n",
       "<style scoped>\n",
       "    .dataframe tbody tr th:only-of-type {\n",
       "        vertical-align: middle;\n",
       "    }\n",
       "\n",
       "    .dataframe tbody tr th {\n",
       "        vertical-align: top;\n",
       "    }\n",
       "\n",
       "    .dataframe thead th {\n",
       "        text-align: right;\n",
       "    }\n",
       "</style>\n",
       "<table border=\"1\" class=\"dataframe\">\n",
       "  <thead>\n",
       "    <tr style=\"text-align: right;\">\n",
       "      <th></th>\n",
       "      <th>form</th>\n",
       "    </tr>\n",
       "  </thead>\n",
       "  <tbody>\n",
       "    <tr>\n",
       "      <th>0</th>\n",
       "      <td>შემიძლია</td>\n",
       "    </tr>\n",
       "    <tr>\n",
       "      <th>1</th>\n",
       "      <td>შეგიძლია</td>\n",
       "    </tr>\n",
       "    <tr>\n",
       "      <th>2</th>\n",
       "      <td>შეუძლია</td>\n",
       "    </tr>\n",
       "    <tr>\n",
       "      <th>3</th>\n",
       "      <td>შეგვიძლია</td>\n",
       "    </tr>\n",
       "    <tr>\n",
       "      <th>4</th>\n",
       "      <td>შეგიძლიათ</td>\n",
       "    </tr>\n",
       "  </tbody>\n",
       "</table>\n",
       "</div>"
      ],
      "text/plain": [
       "        form\n",
       "0   შემიძლია\n",
       "1   შეგიძლია\n",
       "2    შეუძლია\n",
       "3  შეგვიძლია\n",
       "4  შეგიძლიათ"
      ]
     },
     "execution_count": 4,
     "metadata": {},
     "output_type": "execute_result"
    }
   ],
   "source": [
    "# read in the target data\n",
    "um_target = pd.read_csv(r\"..\\data\\um_target.csv\")\n",
    "um_target.head()"
   ]
  },
  {
   "cell_type": "code",
   "execution_count": 5,
   "id": "92c4ee49",
   "metadata": {},
   "outputs": [
    {
     "data": {
      "text/plain": [
       "(21054, 1)"
      ]
     },
     "execution_count": 5,
     "metadata": {},
     "output_type": "execute_result"
    }
   ],
   "source": [
    "# check shape of target data\n",
    "um_target.shape"
   ]
  },
  {
   "cell_type": "code",
   "execution_count": 6,
   "id": "0acc259c",
   "metadata": {},
   "outputs": [],
   "source": [
    "# make a list of Georgian chars\n",
    "georgian_chars = [\n",
    "    'ა', 'ბ', 'გ', 'დ', 'ე', 'ვ', 'ზ', 'თ', 'ი', 'კ', 'ლ', 'მ', 'ნ', 'ო', 'პ', 'ჟ', 'რ', 'ს', 'ტ', 'უ', 'ფ', 'ქ', 'ღ', 'ყ', 'შ', 'ჩ', 'ც', 'ძ', 'წ', 'ჭ', 'ხ', 'ჯ', 'ჰ'\n",
    "    ]\n",
    "# make a list of special chars\n",
    "SPECIAL_TOKENS = ['<pad>', '<bos>', '<eos>']"
   ]
  },
  {
   "cell_type": "code",
   "execution_count": 7,
   "id": "3ac362bc",
   "metadata": {},
   "outputs": [
    {
     "data": {
      "application/vnd.microsoft.datawrangler.viewer.v0+json": {
       "columns": [
        {
         "name": "index",
         "rawType": "int64",
         "type": "integer"
        },
        {
         "name": "tag",
         "rawType": "object",
         "type": "unknown"
        }
       ],
       "ref": "8922afd9-9886-4aa8-a2a7-d15213d06880",
       "rows": [
        [
         "0",
         "['ARGNO1S', 'IND', 'PRS']"
        ],
        [
         "1",
         "['ARGNO2S', 'IND', 'PRS']"
        ],
        [
         "2",
         "['ARGNO3S', 'IND', 'PRS']"
        ],
        [
         "3",
         "['ARGNO1P', 'IND', 'PRS']"
        ],
        [
         "4",
         "['ARGNO2P', 'IND', 'PRS']"
        ],
        [
         "5",
         "['ARGNO3P', 'IND', 'PRS']"
        ],
        [
         "6",
         "['ARGNO1S', 'IND', 'FUT']"
        ],
        [
         "7",
         "['ARGNO2S', 'IND', 'FUT']"
        ],
        [
         "8",
         "['ARGNO3S', 'IND', 'FUT']"
        ],
        [
         "9",
         "['ARGNO1P', 'IND', 'FUT']"
        ],
        [
         "10",
         "['ARGNO2P', 'IND', 'FUT']"
        ],
        [
         "11",
         "['ARGNO3P', 'IND', 'FUT']"
        ],
        [
         "12",
         "['ARGNO1S', 'COND']"
        ],
        [
         "13",
         "['ARGNO2S', 'COND']"
        ],
        [
         "14",
         "['ARGNO3S', 'COND']"
        ],
        [
         "15",
         "['ARGNO1P', 'COND']"
        ],
        [
         "16",
         "['ARGNO2P', 'COND']"
        ],
        [
         "17",
         "['ARGNO3P', 'COND']"
        ],
        [
         "18",
         "['ARGNO1S', 'SBJV', 'FUT']"
        ],
        [
         "19",
         "['ARGNO2S', 'SBJV', 'FUT']"
        ],
        [
         "20",
         "['ARGNO3S', 'SBJV', 'FUT']"
        ],
        [
         "21",
         "['ARGNO1P', 'SBJV', 'FUT']"
        ],
        [
         "22",
         "['ARGNO2P', 'SBJV', 'FUT']"
        ],
        [
         "23",
         "['ARGNO3P', 'SBJV', 'FUT']"
        ],
        [
         "24",
         "['ARGNO1S', 'IND', 'PST', 'PFV']"
        ],
        [
         "25",
         "['ARGNO2S', 'IND', 'PST', 'PFV']"
        ],
        [
         "26",
         "['ARGNO3S', 'IND', 'PST', 'PFV']"
        ],
        [
         "27",
         "['ARGNO1P', 'IND', 'PST', 'PFV']"
        ],
        [
         "28",
         "['ARGNO2P', 'IND', 'PST', 'PFV']"
        ],
        [
         "29",
         "['ARGNO3P', 'IND', 'PST', 'PFV']"
        ],
        [
         "30",
         "['ARGNO1S', 'OPT']"
        ],
        [
         "31",
         "['ARGNO2S', 'OPT']"
        ],
        [
         "32",
         "['ARGNO3S', 'OPT']"
        ],
        [
         "33",
         "['ARGNO1P', 'OPT']"
        ],
        [
         "34",
         "['ARGNO2P', 'OPT']"
        ],
        [
         "35",
         "['ARGNO3P', 'OPT']"
        ],
        [
         "36",
         "['ARGNO1S', 'IND', 'PRF']"
        ],
        [
         "37",
         "['ARGNO2S', 'IND', 'PRF']"
        ],
        [
         "38",
         "['ARGNO3S', 'IND', 'PRF']"
        ],
        [
         "39",
         "['ARGNO1P', 'IND', 'PRF']"
        ],
        [
         "40",
         "['ARGNO2P', 'IND', 'PRF']"
        ],
        [
         "41",
         "['ARGNO3P', 'IND', 'PRF']"
        ],
        [
         "42",
         "['ARGNO1S', 'IND', 'PST', 'PRF']"
        ],
        [
         "43",
         "['ARGNO2S', 'IND', 'PST', 'PRF']"
        ],
        [
         "44",
         "['ARGNO3S', 'IND', 'PST', 'PRF']"
        ],
        [
         "45",
         "['ARGNO1P', 'IND', 'PST', 'PRF']"
        ],
        [
         "46",
         "['ARGNO2P', 'IND', 'PST', 'PRF']"
        ],
        [
         "47",
         "['ARGNO3P', 'IND', 'PST', 'PRF']"
        ],
        [
         "48",
         "['ARGNO1S', 'SBJV', 'PRF']"
        ],
        [
         "49",
         "['ARGNO2S', 'SBJV', 'PRF']"
        ]
       ],
       "shape": {
        "columns": 1,
        "rows": 21054
       }
      },
      "text/plain": [
       "0                  [ARGNO1S, IND, PRS]\n",
       "1                  [ARGNO2S, IND, PRS]\n",
       "2                  [ARGNO3S, IND, PRS]\n",
       "3                  [ARGNO1P, IND, PRS]\n",
       "4                  [ARGNO2P, IND, PRS]\n",
       "                     ...              \n",
       "21049    [ARGNO1P, ARGAC3P, SBJV, PRF]\n",
       "21050    [ARGNO2P, ARGAC3P, SBJV, PRF]\n",
       "21051    [ARGNO3P, ARGAC3P, SBJV, PRF]\n",
       "21052                    [V.MSDR, PRF]\n",
       "21053                   [V.MSDR, IPFV]\n",
       "Name: tag, Length: 21054, dtype: object"
      ]
     },
     "execution_count": 7,
     "metadata": {},
     "output_type": "execute_result"
    }
   ],
   "source": [
    "# split the tags based on ;\n",
    "um_features['tag'] = um_features['tag'].str.split(';')\n",
    "um_features['tag'] = um_features['tag'].apply(lambda tags: [tag for tag in tags if tag != \"V\"])\n",
    "um_features['tag']"
   ]
  },
  {
   "cell_type": "code",
   "execution_count": 8,
   "id": "bafa261c",
   "metadata": {},
   "outputs": [],
   "source": [
    "# make a list of all tags\n",
    "all_tags = []\n",
    "for tags in um_features['tag']:\n",
    "    all_tags.extend(tags)\n",
    "all_tags\n",
    "# remove duplicates from the list of tags\n",
    "all_tags = list(set(all_tags))"
   ]
  },
  {
   "cell_type": "code",
   "execution_count": 9,
   "id": "bbe5e617",
   "metadata": {},
   "outputs": [
    {
     "name": "stdout",
     "output_type": "stream",
     "text": [
      "Stored 'target_vocab_dict' (dict)\n"
     ]
    },
    {
     "data": {
      "text/plain": [
       "{'<pad>': 0,\n",
       " '<bos>': 1,\n",
       " '<eos>': 2,\n",
       " 'ა': 3,\n",
       " 'ბ': 4,\n",
       " 'გ': 5,\n",
       " 'დ': 6,\n",
       " 'ე': 7,\n",
       " 'ვ': 8,\n",
       " 'ზ': 9,\n",
       " 'თ': 10,\n",
       " 'ი': 11,\n",
       " 'კ': 12,\n",
       " 'ლ': 13,\n",
       " 'მ': 14,\n",
       " 'ნ': 15,\n",
       " 'ო': 16,\n",
       " 'პ': 17,\n",
       " 'ჟ': 18,\n",
       " 'რ': 19,\n",
       " 'ს': 20,\n",
       " 'ტ': 21,\n",
       " 'უ': 22,\n",
       " 'ფ': 23,\n",
       " 'ქ': 24,\n",
       " 'ღ': 25,\n",
       " 'ყ': 26,\n",
       " 'შ': 27,\n",
       " 'ჩ': 28,\n",
       " 'ც': 29,\n",
       " 'ძ': 30,\n",
       " 'წ': 31,\n",
       " 'ჭ': 32,\n",
       " 'ხ': 33,\n",
       " 'ჯ': 34,\n",
       " 'ჰ': 35}"
      ]
     },
     "execution_count": 9,
     "metadata": {},
     "output_type": "execute_result"
    }
   ],
   "source": [
    "# make a dict for target labels to get the output_dim later for the model\n",
    "symbols = SPECIAL_TOKENS + georgian_chars  # Use the first two elements of SPECIAL_TOKENS\n",
    "target_vocab_dict = {symbol: i for i, symbol in enumerate(symbols)}\n",
    "target_vocab_dict\n",
    "# store the target vocab dict for later use in the model notebook\n",
    "%store target_vocab_dict \n",
    "target_vocab_dict\n"
   ]
  },
  {
   "cell_type": "code",
   "execution_count": 10,
   "id": "8a7889a9",
   "metadata": {},
   "outputs": [
    {
     "name": "stdout",
     "output_type": "stream",
     "text": [
      "Stored 'feature_vocab_dict' (dict)\n"
     ]
    },
    {
     "data": {
      "text/plain": [
       "{'<pad>': 0,\n",
       " '<bos>': 1,\n",
       " '<eos>': 2,\n",
       " 'ა': 3,\n",
       " 'ბ': 4,\n",
       " 'გ': 5,\n",
       " 'დ': 6,\n",
       " 'ე': 7,\n",
       " 'ვ': 8,\n",
       " 'ზ': 9,\n",
       " 'თ': 10,\n",
       " 'ი': 11,\n",
       " 'კ': 12,\n",
       " 'ლ': 13,\n",
       " 'მ': 14,\n",
       " 'ნ': 15,\n",
       " 'ო': 16,\n",
       " 'პ': 17,\n",
       " 'ჟ': 18,\n",
       " 'რ': 19,\n",
       " 'ს': 20,\n",
       " 'ტ': 21,\n",
       " 'უ': 22,\n",
       " 'ფ': 23,\n",
       " 'ქ': 24,\n",
       " 'ღ': 25,\n",
       " 'ყ': 26,\n",
       " 'შ': 27,\n",
       " 'ჩ': 28,\n",
       " 'ც': 29,\n",
       " 'ძ': 30,\n",
       " 'წ': 31,\n",
       " 'ჭ': 32,\n",
       " 'ხ': 33,\n",
       " 'ჯ': 34,\n",
       " 'ჰ': 35,\n",
       " 'ARGAC1P': 36,\n",
       " 'ARGAC1S': 37,\n",
       " 'ARGAC2P': 38,\n",
       " 'ARGAC2S': 39,\n",
       " 'ARGAC3P': 40,\n",
       " 'ARGAC3S': 41,\n",
       " 'ARGNO1P': 42,\n",
       " 'ARGNO1S': 43,\n",
       " 'ARGNO2P': 44,\n",
       " 'ARGNO2S': 45,\n",
       " 'ARGNO3P': 46,\n",
       " 'ARGNO3S': 47,\n",
       " 'COND': 48,\n",
       " 'FUT': 49,\n",
       " 'IMP': 50,\n",
       " 'IND': 51,\n",
       " 'IPFV': 52,\n",
       " 'OPT': 53,\n",
       " 'PFV': 54,\n",
       " 'PRF': 55,\n",
       " 'PRS': 56,\n",
       " 'PST': 57,\n",
       " 'SBJV': 58,\n",
       " 'V.MSDR': 59}"
      ]
     },
     "execution_count": 10,
     "metadata": {},
     "output_type": "execute_result"
    }
   ],
   "source": [
    "# build one unified vocab for X\n",
    "symbols = SPECIAL_TOKENS + sorted(georgian_chars) + sorted(all_tags)\n",
    "feature_vocab_dict = {sym: idx for idx, sym in enumerate(symbols)}\n",
    "feature_vocab_dict # we will use the length of this dict to get the input_dim later for the model\n",
    "# store the feature vocab dict for later use in the model notebook\n",
    "%store feature_vocab_dict \n",
    "feature_vocab_dict"
   ]
  },
  {
   "cell_type": "markdown",
   "id": "0edc2a47",
   "metadata": {},
   "source": [
    "## Tokenization on the character level"
   ]
  },
  {
   "cell_type": "code",
   "execution_count": 11,
   "id": "9b2b4226",
   "metadata": {},
   "outputs": [
    {
     "data": {
      "text/plain": [
       "(str, list)"
      ]
     },
     "execution_count": 11,
     "metadata": {},
     "output_type": "execute_result"
    }
   ],
   "source": [
    "# we don't need to split each lemma into chars since they are already in char level\n",
    "type(um_features.loc[0, 'lemma']), type(um_features.loc[0, 'tag'])\n",
    "# based on this, the lemma and form columns will be converted to a list of chars while the tag column will be converted to a list of tags"
   ]
  },
  {
   "cell_type": "code",
   "execution_count": 12,
   "id": "a687915e",
   "metadata": {},
   "outputs": [
    {
     "data": {
      "application/vnd.microsoft.datawrangler.viewer.v0+json": {
       "columns": [
        {
         "name": "index",
         "rawType": "int64",
         "type": "integer"
        },
        {
         "name": "tokens",
         "rawType": "object",
         "type": "unknown"
        }
       ],
       "ref": "91328e21-c87d-4a8a-a65d-83c17baa78cc",
       "rows": [
        [
         "0",
         "['<bos>', 'შ', 'ე', 'უ', 'ძ', 'ლ', 'ი', 'ა', 'ARGNO1S', 'IND', 'PRS', '<eos>']"
        ],
        [
         "1",
         "['<bos>', 'შ', 'ე', 'უ', 'ძ', 'ლ', 'ი', 'ა', 'ARGNO2S', 'IND', 'PRS', '<eos>']"
        ],
        [
         "2",
         "['<bos>', 'შ', 'ე', 'უ', 'ძ', 'ლ', 'ი', 'ა', 'ARGNO3S', 'IND', 'PRS', '<eos>']"
        ],
        [
         "3",
         "['<bos>', 'შ', 'ე', 'უ', 'ძ', 'ლ', 'ი', 'ა', 'ARGNO1P', 'IND', 'PRS', '<eos>']"
        ],
        [
         "4",
         "['<bos>', 'შ', 'ე', 'უ', 'ძ', 'ლ', 'ი', 'ა', 'ARGNO2P', 'IND', 'PRS', '<eos>']"
        ],
        [
         "5",
         "['<bos>', 'შ', 'ე', 'უ', 'ძ', 'ლ', 'ი', 'ა', 'ARGNO3P', 'IND', 'PRS', '<eos>']"
        ],
        [
         "6",
         "['<bos>', 'შ', 'ე', 'უ', 'ძ', 'ლ', 'ი', 'ა', 'ARGNO1S', 'IND', 'FUT', '<eos>']"
        ],
        [
         "7",
         "['<bos>', 'შ', 'ე', 'უ', 'ძ', 'ლ', 'ი', 'ა', 'ARGNO2S', 'IND', 'FUT', '<eos>']"
        ],
        [
         "8",
         "['<bos>', 'შ', 'ე', 'უ', 'ძ', 'ლ', 'ი', 'ა', 'ARGNO3S', 'IND', 'FUT', '<eos>']"
        ],
        [
         "9",
         "['<bos>', 'შ', 'ე', 'უ', 'ძ', 'ლ', 'ი', 'ა', 'ARGNO1P', 'IND', 'FUT', '<eos>']"
        ],
        [
         "10",
         "['<bos>', 'შ', 'ე', 'უ', 'ძ', 'ლ', 'ი', 'ა', 'ARGNO2P', 'IND', 'FUT', '<eos>']"
        ],
        [
         "11",
         "['<bos>', 'შ', 'ე', 'უ', 'ძ', 'ლ', 'ი', 'ა', 'ARGNO3P', 'IND', 'FUT', '<eos>']"
        ],
        [
         "12",
         "['<bos>', 'შ', 'ე', 'უ', 'ძ', 'ლ', 'ი', 'ა', 'ARGNO1S', 'COND', '<eos>']"
        ],
        [
         "13",
         "['<bos>', 'შ', 'ე', 'უ', 'ძ', 'ლ', 'ი', 'ა', 'ARGNO2S', 'COND', '<eos>']"
        ],
        [
         "14",
         "['<bos>', 'შ', 'ე', 'უ', 'ძ', 'ლ', 'ი', 'ა', 'ARGNO3S', 'COND', '<eos>']"
        ],
        [
         "15",
         "['<bos>', 'შ', 'ე', 'უ', 'ძ', 'ლ', 'ი', 'ა', 'ARGNO1P', 'COND', '<eos>']"
        ],
        [
         "16",
         "['<bos>', 'შ', 'ე', 'უ', 'ძ', 'ლ', 'ი', 'ა', 'ARGNO2P', 'COND', '<eos>']"
        ],
        [
         "17",
         "['<bos>', 'შ', 'ე', 'უ', 'ძ', 'ლ', 'ი', 'ა', 'ARGNO3P', 'COND', '<eos>']"
        ],
        [
         "18",
         "['<bos>', 'შ', 'ე', 'უ', 'ძ', 'ლ', 'ი', 'ა', 'ARGNO1S', 'SBJV', 'FUT', '<eos>']"
        ],
        [
         "19",
         "['<bos>', 'შ', 'ე', 'უ', 'ძ', 'ლ', 'ი', 'ა', 'ARGNO2S', 'SBJV', 'FUT', '<eos>']"
        ],
        [
         "20",
         "['<bos>', 'შ', 'ე', 'უ', 'ძ', 'ლ', 'ი', 'ა', 'ARGNO3S', 'SBJV', 'FUT', '<eos>']"
        ],
        [
         "21",
         "['<bos>', 'შ', 'ე', 'უ', 'ძ', 'ლ', 'ი', 'ა', 'ARGNO1P', 'SBJV', 'FUT', '<eos>']"
        ],
        [
         "22",
         "['<bos>', 'შ', 'ე', 'უ', 'ძ', 'ლ', 'ი', 'ა', 'ARGNO2P', 'SBJV', 'FUT', '<eos>']"
        ],
        [
         "23",
         "['<bos>', 'შ', 'ე', 'უ', 'ძ', 'ლ', 'ი', 'ა', 'ARGNO3P', 'SBJV', 'FUT', '<eos>']"
        ],
        [
         "24",
         "['<bos>', 'შ', 'ე', 'უ', 'ძ', 'ლ', 'ი', 'ა', 'ARGNO1S', 'IND', 'PST', 'PFV', '<eos>']"
        ],
        [
         "25",
         "['<bos>', 'შ', 'ე', 'უ', 'ძ', 'ლ', 'ი', 'ა', 'ARGNO2S', 'IND', 'PST', 'PFV', '<eos>']"
        ],
        [
         "26",
         "['<bos>', 'შ', 'ე', 'უ', 'ძ', 'ლ', 'ი', 'ა', 'ARGNO3S', 'IND', 'PST', 'PFV', '<eos>']"
        ],
        [
         "27",
         "['<bos>', 'შ', 'ე', 'უ', 'ძ', 'ლ', 'ი', 'ა', 'ARGNO1P', 'IND', 'PST', 'PFV', '<eos>']"
        ],
        [
         "28",
         "['<bos>', 'შ', 'ე', 'უ', 'ძ', 'ლ', 'ი', 'ა', 'ARGNO2P', 'IND', 'PST', 'PFV', '<eos>']"
        ],
        [
         "29",
         "['<bos>', 'შ', 'ე', 'უ', 'ძ', 'ლ', 'ი', 'ა', 'ARGNO3P', 'IND', 'PST', 'PFV', '<eos>']"
        ],
        [
         "30",
         "['<bos>', 'შ', 'ე', 'უ', 'ძ', 'ლ', 'ი', 'ა', 'ARGNO1S', 'OPT', '<eos>']"
        ],
        [
         "31",
         "['<bos>', 'შ', 'ე', 'უ', 'ძ', 'ლ', 'ი', 'ა', 'ARGNO2S', 'OPT', '<eos>']"
        ],
        [
         "32",
         "['<bos>', 'შ', 'ე', 'უ', 'ძ', 'ლ', 'ი', 'ა', 'ARGNO3S', 'OPT', '<eos>']"
        ],
        [
         "33",
         "['<bos>', 'შ', 'ე', 'უ', 'ძ', 'ლ', 'ი', 'ა', 'ARGNO1P', 'OPT', '<eos>']"
        ],
        [
         "34",
         "['<bos>', 'შ', 'ე', 'უ', 'ძ', 'ლ', 'ი', 'ა', 'ARGNO2P', 'OPT', '<eos>']"
        ],
        [
         "35",
         "['<bos>', 'შ', 'ე', 'უ', 'ძ', 'ლ', 'ი', 'ა', 'ARGNO3P', 'OPT', '<eos>']"
        ],
        [
         "36",
         "['<bos>', 'შ', 'ე', 'უ', 'ძ', 'ლ', 'ი', 'ა', 'ARGNO1S', 'IND', 'PRF', '<eos>']"
        ],
        [
         "37",
         "['<bos>', 'შ', 'ე', 'უ', 'ძ', 'ლ', 'ი', 'ა', 'ARGNO2S', 'IND', 'PRF', '<eos>']"
        ],
        [
         "38",
         "['<bos>', 'შ', 'ე', 'უ', 'ძ', 'ლ', 'ი', 'ა', 'ARGNO3S', 'IND', 'PRF', '<eos>']"
        ],
        [
         "39",
         "['<bos>', 'შ', 'ე', 'უ', 'ძ', 'ლ', 'ი', 'ა', 'ARGNO1P', 'IND', 'PRF', '<eos>']"
        ],
        [
         "40",
         "['<bos>', 'შ', 'ე', 'უ', 'ძ', 'ლ', 'ი', 'ა', 'ARGNO2P', 'IND', 'PRF', '<eos>']"
        ],
        [
         "41",
         "['<bos>', 'შ', 'ე', 'უ', 'ძ', 'ლ', 'ი', 'ა', 'ARGNO3P', 'IND', 'PRF', '<eos>']"
        ],
        [
         "42",
         "['<bos>', 'შ', 'ე', 'უ', 'ძ', 'ლ', 'ი', 'ა', 'ARGNO1S', 'IND', 'PST', 'PRF', '<eos>']"
        ],
        [
         "43",
         "['<bos>', 'შ', 'ე', 'უ', 'ძ', 'ლ', 'ი', 'ა', 'ARGNO2S', 'IND', 'PST', 'PRF', '<eos>']"
        ],
        [
         "44",
         "['<bos>', 'შ', 'ე', 'უ', 'ძ', 'ლ', 'ი', 'ა', 'ARGNO3S', 'IND', 'PST', 'PRF', '<eos>']"
        ],
        [
         "45",
         "['<bos>', 'შ', 'ე', 'უ', 'ძ', 'ლ', 'ი', 'ა', 'ARGNO1P', 'IND', 'PST', 'PRF', '<eos>']"
        ],
        [
         "46",
         "['<bos>', 'შ', 'ე', 'უ', 'ძ', 'ლ', 'ი', 'ა', 'ARGNO2P', 'IND', 'PST', 'PRF', '<eos>']"
        ],
        [
         "47",
         "['<bos>', 'შ', 'ე', 'უ', 'ძ', 'ლ', 'ი', 'ა', 'ARGNO3P', 'IND', 'PST', 'PRF', '<eos>']"
        ],
        [
         "48",
         "['<bos>', 'შ', 'ე', 'უ', 'ძ', 'ლ', 'ი', 'ა', 'ARGNO1S', 'SBJV', 'PRF', '<eos>']"
        ],
        [
         "49",
         "['<bos>', 'შ', 'ე', 'უ', 'ძ', 'ლ', 'ი', 'ა', 'ARGNO2S', 'SBJV', 'PRF', '<eos>']"
        ]
       ],
       "shape": {
        "columns": 1,
        "rows": 21054
       }
      },
      "text/plain": [
       "0        [<bos>, შ, ე, უ, ძ, ლ, ი, ა, ARGNO1S, IND, PRS...\n",
       "1        [<bos>, შ, ე, უ, ძ, ლ, ი, ა, ARGNO2S, IND, PRS...\n",
       "2        [<bos>, შ, ე, უ, ძ, ლ, ი, ა, ARGNO3S, IND, PRS...\n",
       "3        [<bos>, შ, ე, უ, ძ, ლ, ი, ა, ARGNO1P, IND, PRS...\n",
       "4        [<bos>, შ, ე, უ, ძ, ლ, ი, ა, ARGNO2P, IND, PRS...\n",
       "                               ...                        \n",
       "21049    [<bos>, წ, ე, რ, ს, ARGNO1P, ARGAC3P, SBJV, PR...\n",
       "21050    [<bos>, წ, ე, რ, ს, ARGNO2P, ARGAC3P, SBJV, PR...\n",
       "21051    [<bos>, წ, ე, რ, ს, ARGNO3P, ARGAC3P, SBJV, PR...\n",
       "21052              [<bos>, წ, ე, რ, ს, V.MSDR, PRF, <eos>]\n",
       "21053             [<bos>, წ, ე, რ, ს, V.MSDR, IPFV, <eos>]\n",
       "Name: tokens, Length: 21054, dtype: object"
      ]
     },
     "execution_count": 12,
     "metadata": {},
     "output_type": "execute_result"
    }
   ],
   "source": [
    "# tokenize the features\n",
    "# we are using the .apply() method to apply the function to each row of the dataframe\n",
    "## the sequence of tokens is: <bos> + lemma + tag + <eos>\n",
    "def tokenize_features(row):\n",
    "    tokens = [\"<bos>\"]\n",
    "    tokens.extend(row['lemma']) #  we are using the .extend() method to add the chars of the lemma to the list instead of the .append() method which would add the whole string as a single element\n",
    "    tokens.extend(row['tag'])  # similarly we are using the .extend() method to add the tags to the list instead of the .append() method which would add the whole list as a single element\n",
    "    tokens.append(\"<eos>\")\n",
    "    return tokens\n",
    "\n",
    "um_features['tokens'] = um_features.apply(tokenize_features, axis=1)\n",
    "um_features['tokens']"
   ]
  },
  {
   "cell_type": "code",
   "execution_count": 13,
   "id": "08bd106f",
   "metadata": {},
   "outputs": [
    {
     "data": {
      "application/vnd.microsoft.datawrangler.viewer.v0+json": {
       "columns": [
        {
         "name": "index",
         "rawType": "int64",
         "type": "integer"
        },
        {
         "name": "tokens",
         "rawType": "object",
         "type": "unknown"
        }
       ],
       "ref": "42b934b3-f7e7-450b-8a0c-698c93a0e9f2",
       "rows": [
        [
         "0",
         "['<bos>', 'შ', 'ე', 'მ', 'ი', 'ძ', 'ლ', 'ი', 'ა', '<eos>']"
        ],
        [
         "1",
         "['<bos>', 'შ', 'ე', 'გ', 'ი', 'ძ', 'ლ', 'ი', 'ა', '<eos>']"
        ],
        [
         "2",
         "['<bos>', 'შ', 'ე', 'უ', 'ძ', 'ლ', 'ი', 'ა', '<eos>']"
        ],
        [
         "3",
         "['<bos>', 'შ', 'ე', 'გ', 'ვ', 'ი', 'ძ', 'ლ', 'ი', 'ა', '<eos>']"
        ],
        [
         "4",
         "['<bos>', 'შ', 'ე', 'გ', 'ი', 'ძ', 'ლ', 'ი', 'ა', 'თ', '<eos>']"
        ],
        [
         "5",
         "['<bos>', 'შ', 'ე', 'უ', 'ძ', 'ლ', 'ი', 'ა', 'თ', '<eos>']"
        ],
        [
         "6",
         "['<bos>', 'შ', 'ე', 'მ', 'ე', 'ძ', 'ლ', 'ე', 'ბ', 'ა', '<eos>']"
        ],
        [
         "7",
         "['<bos>', 'შ', 'ე', 'გ', 'ე', 'ძ', 'ლ', 'ე', 'ბ', 'ა', '<eos>']"
        ],
        [
         "8",
         "['<bos>', 'შ', 'ე', 'ე', 'ძ', 'ლ', 'ე', 'ბ', 'ა', '<eos>']"
        ],
        [
         "9",
         "['<bos>', 'შ', 'ე', 'გ', 'ვ', 'ე', 'ძ', 'ლ', 'ე', 'ბ', 'ა', '<eos>']"
        ],
        [
         "10",
         "['<bos>', 'შ', 'ე', 'გ', 'ე', 'ძ', 'ლ', 'ე', 'ბ', 'ა', 'თ', '<eos>']"
        ],
        [
         "11",
         "['<bos>', 'შ', 'ე', 'ე', 'ძ', 'ლ', 'ე', 'ბ', 'ა', 'თ', '<eos>']"
        ],
        [
         "12",
         "['<bos>', 'შ', 'ე', 'მ', 'ე', 'ძ', 'ლ', 'ე', 'ბ', 'ო', 'დ', 'ა', '<eos>']"
        ],
        [
         "13",
         "['<bos>', 'შ', 'ე', 'გ', 'ე', 'ძ', 'ლ', 'ე', 'ბ', 'ო', 'დ', 'ა', '<eos>']"
        ],
        [
         "14",
         "['<bos>', 'შ', 'ე', 'ე', 'ძ', 'ლ', 'ე', 'ბ', 'ო', 'დ', 'ა', '<eos>']"
        ],
        [
         "15",
         "['<bos>', 'შ', 'ე', 'გ', 'ვ', 'ე', 'ძ', 'ლ', 'ე', 'ბ', 'ო', 'დ', 'ა', '<eos>']"
        ],
        [
         "16",
         "['<bos>', 'შ', 'ე', 'გ', 'ე', 'ძ', 'ლ', 'ე', 'ბ', 'ო', 'დ', 'ა', 'თ', '<eos>']"
        ],
        [
         "17",
         "['<bos>', 'შ', 'ე', 'ე', 'ძ', 'ლ', 'ე', 'ბ', 'ო', 'დ', 'ა', 'თ', '<eos>']"
        ],
        [
         "18",
         "['<bos>', 'შ', 'ე', 'მ', 'ე', 'ძ', 'ლ', 'ე', 'ბ', 'ო', 'დ', 'ე', 'ს', '<eos>']"
        ],
        [
         "19",
         "['<bos>', 'შ', 'ე', 'გ', 'ე', 'ძ', 'ლ', 'ე', 'ბ', 'ო', 'დ', 'ე', 'ს', '<eos>']"
        ],
        [
         "20",
         "['<bos>', 'შ', 'ე', 'ე', 'ძ', 'ლ', 'ე', 'ბ', 'ო', 'დ', 'ე', 'ს', '<eos>']"
        ],
        [
         "21",
         "['<bos>', 'შ', 'ე', 'გ', 'ვ', 'ე', 'ძ', 'ლ', 'ე', 'ბ', 'ო', 'დ', 'ე', 'ს', '<eos>']"
        ],
        [
         "22",
         "['<bos>', 'შ', 'ე', 'გ', 'ე', 'ძ', 'ლ', 'ე', 'ბ', 'ო', 'დ', 'ე', 'თ', '<eos>']"
        ],
        [
         "23",
         "['<bos>', 'შ', 'ე', 'ე', 'ძ', 'ლ', 'ე', 'ბ', 'ო', 'დ', 'ე', 'თ', '<eos>']"
        ],
        [
         "24",
         "['<bos>', 'შ', 'ე', 'მ', 'ე', 'ძ', 'ლ', 'ო', '<eos>']"
        ],
        [
         "25",
         "['<bos>', 'შ', 'ე', 'გ', 'ე', 'ძ', 'ლ', 'ო', '<eos>']"
        ],
        [
         "26",
         "['<bos>', 'შ', 'ე', 'ე', 'ძ', 'ლ', 'ო', '<eos>']"
        ],
        [
         "27",
         "['<bos>', 'შ', 'ე', 'გ', 'ვ', 'ე', 'ძ', 'ლ', 'ო', '<eos>']"
        ],
        [
         "28",
         "['<bos>', 'შ', 'ე', 'გ', 'ე', 'ძ', 'ლ', 'ო', 'თ', '<eos>']"
        ],
        [
         "29",
         "['<bos>', 'შ', 'ე', 'ე', 'ძ', 'ლ', 'ო', 'თ', '<eos>']"
        ],
        [
         "30",
         "['<bos>', 'შ', 'ე', 'მ', 'ე', 'ძ', 'ლ', 'ო', 'ს', '<eos>']"
        ],
        [
         "31",
         "['<bos>', 'შ', 'ე', 'გ', 'ე', 'ძ', 'ლ', 'ო', 'ს', '<eos>']"
        ],
        [
         "32",
         "['<bos>', 'შ', 'ე', 'ძ', 'ლ', 'ო', 'ს', '<eos>']"
        ],
        [
         "33",
         "['<bos>', 'შ', 'ე', 'გ', 'ვ', 'ე', 'ძ', 'ლ', 'ო', 'ს', '<eos>']"
        ],
        [
         "34",
         "['<bos>', 'შ', 'ე', 'გ', 'ე', 'ძ', 'ლ', 'ო', 'თ', '<eos>']"
        ],
        [
         "35",
         "['<bos>', 'შ', 'ე', 'ძ', 'ლ', 'ო', 'ნ', '<eos>']"
        ],
        [
         "36",
         "['<bos>', 'შ', 'ე', 'მ', 'ძ', 'ლ', 'ე', 'ბ', 'ი', 'ა', '<eos>']"
        ],
        [
         "37",
         "['<bos>', 'შ', 'ე', 'გ', 'ძ', 'ლ', 'ე', 'ბ', 'ი', 'ა', '<eos>']"
        ],
        [
         "38",
         "['<bos>', 'შ', 'ე', 'ს', 'ძ', 'ლ', 'ე', 'ბ', 'ი', 'ა', '<eos>']"
        ],
        [
         "39",
         "['<bos>', 'შ', 'ე', 'გ', 'ვ', 'ძ', 'ლ', 'ე', 'ბ', 'ი', 'ა', '<eos>']"
        ],
        [
         "40",
         "['<bos>', 'შ', 'ე', 'გ', 'ძ', 'ლ', 'ე', 'ბ', 'ი', 'ა', 'თ', '<eos>']"
        ],
        [
         "41",
         "['<bos>', 'შ', 'ე', 'ს', 'ძ', 'ლ', 'ე', 'ბ', 'ი', 'ა', 'თ', '<eos>']"
        ],
        [
         "42",
         "['<bos>', 'შ', 'ე', 'მ', 'ძ', 'ლ', 'ე', 'ბ', 'ო', 'დ', 'ა', '<eos>']"
        ],
        [
         "43",
         "['<bos>', 'შ', 'ე', 'გ', 'ძ', 'ლ', 'ე', 'ბ', 'ო', 'დ', 'ა', '<eos>']"
        ],
        [
         "44",
         "['<bos>', 'შ', 'ე', 'ს', 'ძ', 'ლ', 'ე', 'ბ', 'ო', 'დ', 'ა', '<eos>']"
        ],
        [
         "45",
         "['<bos>', 'შ', 'ე', 'გ', 'ვ', 'ძ', 'ლ', 'ე', 'ბ', 'ო', 'დ', 'ა', '<eos>']"
        ],
        [
         "46",
         "['<bos>', 'შ', 'ე', 'გ', 'ძ', 'ლ', 'ე', 'ბ', 'ო', 'დ', 'ა', 'თ', '<eos>']"
        ],
        [
         "47",
         "['<bos>', 'შ', 'ე', 'ს', 'ძ', 'ლ', 'ე', 'ბ', 'ო', 'დ', 'ა', 'თ', '<eos>']"
        ],
        [
         "48",
         "['<bos>', 'შ', 'ე', 'მ', 'ძ', 'ლ', 'ე', 'ბ', 'ო', 'დ', 'ე', 'ს', '<eos>']"
        ],
        [
         "49",
         "['<bos>', 'შ', 'ე', 'გ', 'ძ', 'ლ', 'ე', 'ბ', 'ო', 'დ', 'ე', 'ს', '<eos>']"
        ]
       ],
       "shape": {
        "columns": 1,
        "rows": 21054
       }
      },
      "text/plain": [
       "0              [<bos>, შ, ე, მ, ი, ძ, ლ, ი, ა, <eos>]\n",
       "1              [<bos>, შ, ე, გ, ი, ძ, ლ, ი, ა, <eos>]\n",
       "2                 [<bos>, შ, ე, უ, ძ, ლ, ი, ა, <eos>]\n",
       "3           [<bos>, შ, ე, გ, ვ, ი, ძ, ლ, ი, ა, <eos>]\n",
       "4           [<bos>, შ, ე, გ, ი, ძ, ლ, ი, ა, თ, <eos>]\n",
       "                             ...                     \n",
       "21049    [<bos>, დ, ა, გ, ვ, ე, წ, ე, რ, ო, ს, <eos>]\n",
       "21050       [<bos>, დ, ა, გ, ე, წ, ე, რ, ო, თ, <eos>]\n",
       "21051          [<bos>, დ, ა, ე, წ, ე, რ, ო, თ, <eos>]\n",
       "21052                [<bos>, დ, ა, წ, ე, რ, ა, <eos>]\n",
       "21053                      [<bos>, წ, ე, რ, ა, <eos>]\n",
       "Name: tokens, Length: 21054, dtype: object"
      ]
     },
     "execution_count": 13,
     "metadata": {},
     "output_type": "execute_result"
    }
   ],
   "source": [
    "# tokenize the target\n",
    "## the sequence of tokens is: <bos> + form + <eos>\n",
    "def tokenize_target(row):\n",
    "    tokens_target = [\"<bos>\"]\n",
    "    tokens_target.extend(row['form']) \n",
    "    tokens_target.append(\"<eos>\")\n",
    "    return tokens_target\n",
    "um_target['tokens'] = um_target.apply(tokenize_target, axis=1)\n",
    "um_target['tokens']"
   ]
  },
  {
   "cell_type": "code",
   "execution_count": 14,
   "id": "df8dc394",
   "metadata": {},
   "outputs": [
    {
     "data": {
      "image/png": "[encoded data removed]",
      "text/plain": [
       "<Figure size 1500x600 with 1 Axes>"
      ]
     },
     "metadata": {},
     "output_type": "display_data"
    }
   ],
   "source": [
    "import matplotlib.pyplot as plt\n",
    "from collections import Counter\n",
    "\n",
    "# Example: Suppose you have a list of all tokens in your dataset\n",
    "all_tokens = [token for seq in um_features[\"tokens\"] for token in seq]\n",
    "all_tokens.extend([token for seq in um_target[\"tokens\"] for token in seq])\n",
    "# Count the frequency of each token\n",
    "token_counts = Counter(all_tokens)\n",
    "\n",
    "# Get token frequencies in the order of feature_vocab_dict\n",
    "ordered_tokens = list(feature_vocab_dict.keys())\n",
    "ordered_counts = [token_counts.get(token, 0) for token in ordered_tokens]\n",
    "\n",
    "plt.figure(figsize=(15, 6))\n",
    "plt.bar(ordered_tokens, ordered_counts)\n",
    "plt.xlabel('Token')\n",
    "plt.ylabel('Frequency')\n",
    "plt.title('Token Frequencies (Ordered by feature_vocab_dict)')\n",
    "plt.xticks(rotation=90)\n",
    "plt.tight_layout()\n",
    "plt.show()\n"
   ]
  },
  {
   "cell_type": "code",
   "execution_count": 15,
   "id": "6b219672",
   "metadata": {},
   "outputs": [],
   "source": [
    "# save the tokenized data to a new csv file\n",
    "um_features[\"tokens\"].to_csv(r\"..\\data\\tokens\\um_features_tokenized.csv\", index=False)\n",
    "um_target[\"tokens\"].to_csv(r\"..\\data\\tokens\\um_target_tokenized.csv\", index=False)"
   ]
  }
 ],
 "metadata": {
  "kernelspec": {
   "display_name": "torchenv",
   "language": "python",
   "name": "python3"
  },
  "language_info": {
   "codemirror_mode": {
    "name": "ipython",
    "version": 3
   },
   "file_extension": ".py",
   "mimetype": "text/x-python",
   "name": "python",
   "nbconvert_exporter": "python",
   "pygments_lexer": "ipython3",
   "version": "3.12.7"
  }
 },
 "nbformat": 4,
 "nbformat_minor": 5
}

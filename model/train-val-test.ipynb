{
 "cells": [
  {
   "cell_type": "markdown",
   "id": "b3f5bdda",
   "metadata": {},
   "source": [
    "# Train-Test-Split\n",
    "\n",
    "In this notebook we will split the data into train-val-test sets and save them in the data folder"
   ]
  },
  {
   "cell_type": "code",
   "execution_count": 6,
   "id": "7f9f164c",
   "metadata": {},
   "outputs": [],
   "source": [
    "# import necessary libraries\n",
    "import pandas as pd\n",
    "from sklearn.model_selection import train_test_split"
   ]
  },
  {
   "cell_type": "code",
   "execution_count": 7,
   "id": "4ad8d9a7",
   "metadata": {},
   "outputs": [],
   "source": [
    "# read in the dataset\n",
    "um_features = pd.read_csv(r\"C:\\Users\\Home\\Desktop\\Bachelor Project\\data\\tokens\\um_features_tokenized.csv\")\n",
    "um_target = pd.read_csv(r\"C:\\Users\\Home\\Desktop\\Bachelor Project\\data\\tokens\\um_target_tokenized.csv\")"
   ]
  },
  {
   "cell_type": "code",
   "execution_count": 8,
   "id": "cc3b5e91",
   "metadata": {},
   "outputs": [
    {
     "name": "stdout",
     "output_type": "stream",
     "text": [
      "[\"['<bos>', 'შ', 'ე', 'უ', 'ძ', 'ლ', 'ი', 'ა', 'ARGNO1S', 'IND', 'PRS', '<eos>']\"]\n",
      "[\"['<bos>', 'შ', 'ე', 'მ', 'ი', 'ძ', 'ლ', 'ი', 'ა', '<eos>']\"]\n"
     ]
    }
   ],
   "source": [
    "# model variables \n",
    "X = um_features.values\n",
    "y = um_target.values\n",
    "# check the data\n",
    "print(X[0])\n",
    "print(y[0])"
   ]
  },
  {
   "cell_type": "code",
   "execution_count": 9,
   "id": "7fb30220",
   "metadata": {},
   "outputs": [
    {
     "name": "stdout",
     "output_type": "stream",
     "text": [
      "Train size X: 14737 Validation size: 3158 Test size: 3159\n",
      "Train size y: 14737 Validation size: 3158 Test size: 3159\n"
     ]
    }
   ],
   "source": [
    "# train, val, test split\n",
    "X_temp, X_test, y_temp, y_test = train_test_split(X, y, test_size=0.15, random_state=42)\n",
    "val_size = 0.15 / (1 - 0.15)  # Adjust the validation size to account for the test split\n",
    "X_train, X_val, y_train, y_val = train_test_split(X_temp, y_temp, test_size=val_size, random_state=42)\n",
    "# check the data\n",
    "print(\"Train size X:\", len(X_train), \"Validation size:\", len(X_val), \"Test size:\", len(X_test))\n",
    "print(\"Train size y:\", len(y_train), \"Validation size:\", len(y_val), \"Test size:\", len(y_test))"
   ]
  },
  {
   "cell_type": "code",
   "execution_count": 10,
   "id": "509efc4b",
   "metadata": {},
   "outputs": [],
   "source": [
    "# save X_train, X_val, X_test\n",
    "pd.DataFrame(X_train).to_json(r\"C:\\Users\\Home\\Desktop\\Bachelor Project\\data\\train-test-eval\\X_train.json\", index=False)\n",
    "pd.DataFrame(X_val).to_json(r\"C:\\Users\\Home\\Desktop\\Bachelor Project\\data\\train-test-eval\\X_val.json\", index=False)\n",
    "pd.DataFrame(X_test).to_json(r\"C:\\Users\\Home\\Desktop\\Bachelor Project\\data\\train-test-eval\\X_test.json\", index=False)\n",
    "# save y_train, y_val, y_test\n",
    "pd.DataFrame(y_train).to_json(r\"C:\\Users\\Home\\Desktop\\Bachelor Project\\data\\train-test-eval\\y_train.json\", index=False)\n",
    "pd.DataFrame(y_val).to_json(r\"C:\\Users\\Home\\Desktop\\Bachelor Project\\data\\train-test-eval\\y_val.json\", index=False)\n",
    "pd.DataFrame(y_test).to_json(r\"C:\\Users\\Home\\Desktop\\Bachelor Project\\data\\train-test-eval\\y_test.json\", index=False)"
   ]
  }
 ],
 "metadata": {
  "kernelspec": {
   "display_name": "torchenv",
   "language": "python",
   "name": "python3"
  },
  "language_info": {
   "codemirror_mode": {
    "name": "ipython",
    "version": 3
   },
   "file_extension": ".py",
   "mimetype": "text/x-python",
   "name": "python",
   "nbconvert_exporter": "python",
   "pygments_lexer": "ipython3",
   "version": "3.12.7"
  }
 },
 "nbformat": 4,
 "nbformat_minor": 5
}
